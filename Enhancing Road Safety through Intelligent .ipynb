{
  "cells": [
    {
      "cell_type": "markdown",
      "metadata": {
        "id": "SRkFT8HtCZHS"
      },
      "source": [
        "# Enhancing Road Safety through Intelligent Systems\n",
        "Multi-class, single-image classification"
      ]
    },
    {
      "cell_type": "markdown",
      "metadata": {
        "id": "SJWdbMALTcGJ"
      },
      "source": [
        "### Dataset\n",
        "Traffic Sign Benchmark is a multi-class, single-image classification challenge held at the International Joint Conference on Neural Networks (IJCNN) 2011. They cordially invite researchers from relevant fields to participate: The competition is designed to allow for participation without special domain knowledge. Their benchmark has the following properties:\n",
        "\n",
        "- Single-image, the multi-class classification problem\n",
        "- More than 40 classes\n",
        "- More than 50,000 images in total\n",
        "- Large, lifelike database\n"
      ]
    },
    {
      "cell_type": "markdown",
      "metadata": {
        "id": "hRhJulWyIGMN"
      },
      "source": [
        "#### Notes\n",
        "- For this project, we have reduced the number of images. There are around 16,500+ images in the dataset provided. You can check “label_details” folder for getting information about the classes.\n",
        "- If the model is taking too much time to get trained then you can reduce the number of classes. There are around 43 classes in the dataset, model should be trained on a minimum of 15 classes."
      ]
    },
    {
      "cell_type": "markdown",
      "metadata": {
        "id": "qC37j3FUDVYd"
      },
      "source": [
        "### Initialize ImageDataGenerator (7 Marks)\n",
        "- Import all the required libraries\n",
        "- Check for corrupted images or files (remove the corrupted images/files)\n",
        "- Rescale the images\n",
        "- Specify value for validation_split & get 75% data in training and 25% data in training"
      ]
    },
    {
      "cell_type": "markdown",
      "metadata": {
        "id": "6xh07zaHNPKo"
      },
      "source": [
        "# importing libs"
      ]
    },
    {
      "cell_type": "code",
      "execution_count": 1,
      "metadata": {
        "id": "OakETLlCBwy1"
      },
      "outputs": [],
      "source": [
        "import numpy as np\n",
        "import pandas as pd\n",
        "import tensorflow as tf\n",
        "import os\n",
        "\n",
        "from tensorflow.keras.models import Sequential, load_model\n",
        "from tensorflow.keras.layers import Conv2D, MaxPool2D, Dense, Flatten, Dropout\n",
        "from sklearn.model_selection import train_test_split\n",
        "from tensorflow.keras.utils import to_categorical\n",
        "\n",
        "import cv2\n",
        "from PIL import Image\n",
        "import matplotlib.pyplot as plt\n",
        "\n",
        "import warnings\n",
        "warnings.filterwarnings(\"ignore\")"
      ]
    },
    {
      "cell_type": "markdown",
      "metadata": {
        "id": "lREoH3DiNHO8"
      },
      "source": [
        "# Loading Data set from g-Drive\n"
      ]
    },
    {
      "cell_type": "code",
      "execution_count": 2,
      "metadata": {
        "colab": {
          "base_uri": "https://localhost:8080/"
        },
        "id": "s_9PfLJoLf2S",
        "outputId": "4d970268-c723-4b8f-fa21-a1d77ae44ab3"
      },
      "outputs": [
        {
          "output_type": "stream",
          "name": "stdout",
          "text": [
            "Mounted at /content/drive\n"
          ]
        }
      ],
      "source": [
        "from google.colab import drive\n",
        "drive.mount('/content/drive')"
      ]
    },
    {
      "cell_type": "code",
      "execution_count": 3,
      "metadata": {
        "colab": {
          "base_uri": "https://localhost:8080/"
        },
        "id": "ZYLCegWBNVgG",
        "outputId": "3e5de427-7acf-4b53-ab58-c40064d738bd"
      },
      "outputs": [
        {
          "output_type": "stream",
          "name": "stdout",
          "text": [
            "/content/drive/MyDrive/Train/0\n",
            "/content/drive/MyDrive/Train/1\n",
            "/content/drive/MyDrive/Train/2\n",
            "/content/drive/MyDrive/Train/3\n",
            "/content/drive/MyDrive/Train/4\n",
            "/content/drive/MyDrive/Train/5\n",
            "/content/drive/MyDrive/Train/6\n",
            "/content/drive/MyDrive/Train/7\n",
            "/content/drive/MyDrive/Train/8\n",
            "/content/drive/MyDrive/Train/9\n",
            "/content/drive/MyDrive/Train/10\n",
            "/content/drive/MyDrive/Train/11\n",
            "/content/drive/MyDrive/Train/12\n",
            "/content/drive/MyDrive/Train/13\n",
            "/content/drive/MyDrive/Train/14\n",
            "Total images = 23050 || Corrupted Image = 1\n"
          ]
        }
      ],
      "source": [
        "data = []\n",
        "labels = []\n",
        "classes = 15\n",
        "cur_path = os.getcwd()\n",
        "total_image = 0\n",
        "corrupt_cnt = 0\n",
        "\n",
        "# fetching images from g-dive\n",
        "\n",
        "for i in range(classes):\n",
        "  path = os.path.join('/content/drive/MyDrive/Train', str(i))\n",
        "  print(path)\n",
        "  images = os.listdir(path)\n",
        "\n",
        "  #  checking for corrupted image\n",
        "\n",
        "  for a in images:\n",
        "    total_image += 1\n",
        "    try:\n",
        "      image = Image.open(path + '/' + a)\n",
        "      image.close()\n",
        "    except:\n",
        "      corrupt_cnt += 1\n",
        "\n",
        "print('Total images = ' + str(total_image) + ' || Corrupted Image = ' + str(corrupt_cnt))\n"
      ]
    },
    {
      "cell_type": "code",
      "execution_count": 4,
      "metadata": {
        "colab": {
          "base_uri": "https://localhost:8080/"
        },
        "id": "ySKEox9fnSyT",
        "outputId": "18de93b4-9091-4bd6-dd00-9fd056dcc52e"
      },
      "outputs": [
        {
          "output_type": "stream",
          "name": "stdout",
          "text": [
            "/content/drive/MyDrive/Train/0\n",
            "/content/drive/MyDrive/Train/1\n",
            "/content/drive/MyDrive/Train/2\n",
            "/content/drive/MyDrive/Train/3\n",
            "/content/drive/MyDrive/Train/4\n",
            "/content/drive/MyDrive/Train/5\n",
            "/content/drive/MyDrive/Train/6\n",
            "/content/drive/MyDrive/Train/7\n",
            "/content/drive/MyDrive/Train/8\n",
            "/content/drive/MyDrive/Train/9\n",
            "/content/drive/MyDrive/Train/10\n",
            "Error loading image\n",
            "/content/drive/MyDrive/Train/11\n",
            "/content/drive/MyDrive/Train/12\n",
            "/content/drive/MyDrive/Train/13\n",
            "/content/drive/MyDrive/Train/14\n",
            "Total images = 23050 || resized Image = 1\n"
          ]
        }
      ],
      "source": [
        "\n",
        "for i in range(classes):\n",
        "  path = os.path.join('/content/drive/MyDrive/Train', str(i))\n",
        "  print(path)\n",
        "  images = os.listdir(path)\n",
        "\n",
        "  #  image resize  & convering to np array\n",
        "\n",
        "  for a in images:\n",
        "        try:\n",
        "            image = Image.open(path + '/'+ a)\n",
        "            image = image.resize((32,32))\n",
        "            image = np.array(image)\n",
        "            #sim = Image.fromarray(image)\n",
        "            data.append(image)\n",
        "            labels.append(i)\n",
        "        except:\n",
        "            print(\"Error loading image\")\n",
        "\n",
        "# Converting lists into numpy arrays\n",
        "data = np.array(data)\n",
        "labels = np.array(labels)\n",
        "\n",
        "print('Total images = ' + str(total_image) + ' || resized Image = ' + str(corrupt_cnt))\n"
      ]
    },
    {
      "cell_type": "code",
      "execution_count": 5,
      "metadata": {
        "colab": {
          "base_uri": "https://localhost:8080/"
        },
        "id": "q7Zd0yWAm2V6",
        "outputId": "58db013a-4584-41a5-d474-cf02f0f1e206"
      },
      "outputs": [
        {
          "output_type": "stream",
          "name": "stdout",
          "text": [
            "(23049, 32, 32, 3)\n",
            "(23049,)\n"
          ]
        }
      ],
      "source": [
        "# Specify value for validation_split & get 75% data in training and 25% data in training\n",
        "\n",
        "#lets chech data\n",
        "print(data.shape)\n",
        "print(labels.shape)"
      ]
    },
    {
      "cell_type": "code",
      "execution_count": 6,
      "metadata": {
        "colab": {
          "base_uri": "https://localhost:8080/"
        },
        "id": "go0gZhw-tTcB",
        "outputId": "0b0f54ad-529e-4e3b-b644-47f87a69b4a9"
      },
      "outputs": [
        {
          "output_type": "stream",
          "name": "stdout",
          "text": [
            "Train data set size(17286, 32, 32, 3)(17286,)\n",
            "Test data set size(5763, 32, 32, 3)(5763,)\n"
          ]
        }
      ],
      "source": [
        "# splitting data\n",
        "\n",
        "X_train, X_test, y_train, y_test = train_test_split(data, labels, test_size = 0.25, random_state=42)\n",
        "print('Train data set size' + str(X_train.shape) + str(y_train.shape))\n",
        "print('Test data set size' + str(X_test.shape) + str(y_test.shape))\n"
      ]
    },
    {
      "cell_type": "code",
      "execution_count": 7,
      "metadata": {
        "id": "5tWWbDkbuTYQ"
      },
      "outputs": [],
      "source": [
        "# converting labels into one hot encoding\n",
        "\n",
        "y_train = to_categorical(y_train, 15)\n",
        "y_test = to_categorical(y_test, 15)"
      ]
    },
    {
      "cell_type": "markdown",
      "metadata": {
        "id": "GzYNcoV9Gawj"
      },
      "source": [
        "### Get validation data from ImageDataGenerator (4 Marks)\n",
        "- Give directory path\n",
        "- Give target size\n",
        "- Give batch_size\n",
        "- Specify classes, if you wish to use less number of classes you need to give class names in a list (Atleast 15 classes should be there)\n",
        "- Specify class_mode\n",
        "- Specify color_mode\n",
        "- Specify subset\n",
        "\n",
        "You can get details here\n",
        "https://www.tensorflow.org/api_docs/python/tf/keras/preprocessing/image/ImageDataGenerator"
      ]
    },
    {
      "cell_type": "code",
      "execution_count": 8,
      "metadata": {
        "id": "-m9zfw0AHIma"
      },
      "outputs": [],
      "source": [
        "from keras.optimizers import Adam\n",
        "from tensorflow import keras\n",
        "\n",
        "batch_size = 8\n",
        "learning_rate = 2e-05\n",
        "classes = 15\n",
        "epochs = 30\n",
        "\n",
        "\n",
        "IMG_HEIGHT = 32\n",
        "IMG_WIDTH = 32\n",
        "channels = 3"
      ]
    },
    {
      "cell_type": "markdown",
      "metadata": {
        "id": "S2fXxJz1I_SV"
      },
      "source": [
        "### Define model (6 Marks)\n",
        "- Initialize a Sequential Model\n",
        "- Add Convolution, Maxpool, Dropout, Flatten & Dense layers according to your model architecture"
      ]
    },
    {
      "cell_type": "code",
      "execution_count": 9,
      "metadata": {
        "id": "Fns3rEJ-DHQq"
      },
      "outputs": [],
      "source": [
        "model = keras.models.Sequential([\n",
        "    keras.layers.Conv2D(filters=16, kernel_size=(3,3), activation='relu', input_shape=(IMG_HEIGHT,IMG_WIDTH,channels)),\n",
        "    keras.layers.Conv2D(filters=32, kernel_size=(3,3), activation='relu'),\n",
        "    keras.layers.MaxPool2D(pool_size=(2, 2)),\n",
        "    keras.layers.BatchNormalization(axis=-1),\n",
        "\n",
        "    keras.layers.Conv2D(filters=64, kernel_size=(3,3), activation='relu'),\n",
        "    keras.layers.Conv2D(filters=128, kernel_size=(3,3), activation='relu'),\n",
        "    keras.layers.MaxPool2D(pool_size=(2, 2)),\n",
        "    keras.layers.BatchNormalization(axis=-1),\n",
        "\n",
        "    keras.layers.Flatten(),\n",
        "    keras.layers.Dense(512, activation='relu'),\n",
        "    keras.layers.BatchNormalization(),\n",
        "    keras.layers.Dropout(rate=0.5),\n",
        "\n",
        "    keras.layers.Dense(15, activation='softmax')\n",
        "])"
      ]
    },
    {
      "cell_type": "code",
      "execution_count": 10,
      "metadata": {
        "colab": {
          "base_uri": "https://localhost:8080/"
        },
        "id": "nv_6b5SQ2sMw",
        "outputId": "1f8375a1-2fad-42b2-bca1-2857050bf573"
      },
      "outputs": [
        {
          "output_type": "stream",
          "name": "stdout",
          "text": [
            "(None, 15)\n"
          ]
        }
      ],
      "source": [
        "print(model.output_shape)"
      ]
    },
    {
      "cell_type": "markdown",
      "metadata": {
        "id": "lRs36YJgJvI0"
      },
      "source": [
        "### Compile the model (3 Marks)\n",
        "- Specify optimizer, loss & metrics"
      ]
    },
    {
      "cell_type": "code",
      "execution_count": 11,
      "metadata": {
        "id": "jvgO3JPvDQpL"
      },
      "outputs": [],
      "source": [
        "model.compile(optimizer='adam',loss='categorical_crossentropy',metrics=['accuracy'])"
      ]
    },
    {
      "cell_type": "markdown",
      "metadata": {
        "id": "U_Q6ihfUJ6Hm"
      },
      "source": [
        "### Get model summary (3 Marks)"
      ]
    },
    {
      "cell_type": "code",
      "execution_count": 12,
      "metadata": {
        "colab": {
          "base_uri": "https://localhost:8080/"
        },
        "id": "b3Sxnbo-lhfV",
        "outputId": "d2af36e1-30f4-46d8-f427-9f4294fb92b9"
      },
      "outputs": [
        {
          "output_type": "stream",
          "name": "stdout",
          "text": [
            "Model: \"sequential\"\n",
            "_________________________________________________________________\n",
            " Layer (type)                Output Shape              Param #   \n",
            "=================================================================\n",
            " conv2d (Conv2D)             (None, 30, 30, 16)        448       \n",
            "                                                                 \n",
            " conv2d_1 (Conv2D)           (None, 28, 28, 32)        4640      \n",
            "                                                                 \n",
            " max_pooling2d (MaxPooling2  (None, 14, 14, 32)        0         \n",
            " D)                                                              \n",
            "                                                                 \n",
            " batch_normalization (Batch  (None, 14, 14, 32)        128       \n",
            " Normalization)                                                  \n",
            "                                                                 \n",
            " conv2d_2 (Conv2D)           (None, 12, 12, 64)        18496     \n",
            "                                                                 \n",
            " conv2d_3 (Conv2D)           (None, 10, 10, 128)       73856     \n",
            "                                                                 \n",
            " max_pooling2d_1 (MaxPoolin  (None, 5, 5, 128)         0         \n",
            " g2D)                                                            \n",
            "                                                                 \n",
            " batch_normalization_1 (Bat  (None, 5, 5, 128)         512       \n",
            " chNormalization)                                                \n",
            "                                                                 \n",
            " flatten (Flatten)           (None, 3200)              0         \n",
            "                                                                 \n",
            " dense (Dense)               (None, 512)               1638912   \n",
            "                                                                 \n",
            " batch_normalization_2 (Bat  (None, 512)               2048      \n",
            " chNormalization)                                                \n",
            "                                                                 \n",
            " dropout (Dropout)           (None, 512)               0         \n",
            "                                                                 \n",
            " dense_1 (Dense)             (None, 15)                7695      \n",
            "                                                                 \n",
            "=================================================================\n",
            "Total params: 1746735 (6.66 MB)\n",
            "Trainable params: 1745391 (6.66 MB)\n",
            "Non-trainable params: 1344 (5.25 KB)\n",
            "_________________________________________________________________\n"
          ]
        }
      ],
      "source": [
        "model.summary()"
      ]
    },
    {
      "cell_type": "code",
      "execution_count": 13,
      "metadata": {
        "colab": {
          "base_uri": "https://localhost:8080/"
        },
        "id": "9SLjprPDDYOs",
        "outputId": "bfca7625-1fef-498b-be55-9f019617a44f"
      },
      "outputs": [
        {
          "output_type": "stream",
          "name": "stdout",
          "text": [
            "Epoch 1/30\n",
            "541/541 [==============================] - 14s 9ms/step - loss: 0.3596 - accuracy: 0.8951 - val_loss: 0.0919 - val_accuracy: 0.9703\n",
            "Epoch 2/30\n",
            "541/541 [==============================] - 4s 8ms/step - loss: 0.0457 - accuracy: 0.9857 - val_loss: 0.0361 - val_accuracy: 0.9912\n",
            "Epoch 3/30\n",
            "541/541 [==============================] - 4s 7ms/step - loss: 0.0225 - accuracy: 0.9928 - val_loss: 0.0264 - val_accuracy: 0.9925\n",
            "Epoch 4/30\n",
            "541/541 [==============================] - 4s 7ms/step - loss: 0.0289 - accuracy: 0.9902 - val_loss: 0.0199 - val_accuracy: 0.9936\n",
            "Epoch 5/30\n",
            "541/541 [==============================] - 5s 9ms/step - loss: 0.0182 - accuracy: 0.9939 - val_loss: 0.0148 - val_accuracy: 0.9950\n",
            "Epoch 6/30\n",
            "541/541 [==============================] - 4s 7ms/step - loss: 0.0130 - accuracy: 0.9958 - val_loss: 0.0342 - val_accuracy: 0.9896\n",
            "Epoch 7/30\n",
            "541/541 [==============================] - 4s 7ms/step - loss: 0.0213 - accuracy: 0.9932 - val_loss: 0.0214 - val_accuracy: 0.9934\n",
            "Epoch 8/30\n",
            "541/541 [==============================] - 4s 8ms/step - loss: 0.0314 - accuracy: 0.9913 - val_loss: 0.0098 - val_accuracy: 0.9969\n",
            "Epoch 9/30\n",
            "541/541 [==============================] - 4s 8ms/step - loss: 0.0131 - accuracy: 0.9961 - val_loss: 0.0112 - val_accuracy: 0.9965\n",
            "Epoch 10/30\n",
            "541/541 [==============================] - 4s 7ms/step - loss: 0.0115 - accuracy: 0.9965 - val_loss: 0.0292 - val_accuracy: 0.9899\n",
            "Epoch 11/30\n",
            "541/541 [==============================] - 4s 7ms/step - loss: 0.0123 - accuracy: 0.9959 - val_loss: 0.0125 - val_accuracy: 0.9965\n",
            "Epoch 12/30\n",
            "541/541 [==============================] - 5s 9ms/step - loss: 0.0132 - accuracy: 0.9956 - val_loss: 0.0198 - val_accuracy: 0.9941\n",
            "Epoch 13/30\n",
            "541/541 [==============================] - 4s 7ms/step - loss: 0.0106 - accuracy: 0.9966 - val_loss: 0.0629 - val_accuracy: 0.9899\n",
            "Epoch 14/30\n",
            "541/541 [==============================] - 4s 7ms/step - loss: 0.0136 - accuracy: 0.9956 - val_loss: 0.0109 - val_accuracy: 0.9971\n",
            "Epoch 15/30\n",
            "541/541 [==============================] - 5s 9ms/step - loss: 0.0048 - accuracy: 0.9987 - val_loss: 0.0102 - val_accuracy: 0.9974\n",
            "Epoch 16/30\n",
            "541/541 [==============================] - 4s 7ms/step - loss: 0.0133 - accuracy: 0.9962 - val_loss: 0.0071 - val_accuracy: 0.9977\n",
            "Epoch 17/30\n",
            "541/541 [==============================] - 4s 7ms/step - loss: 0.0096 - accuracy: 0.9970 - val_loss: 0.1185 - val_accuracy: 0.9762\n",
            "Epoch 18/30\n",
            "541/541 [==============================] - 4s 8ms/step - loss: 0.0048 - accuracy: 0.9986 - val_loss: 0.0115 - val_accuracy: 0.9967\n",
            "Epoch 19/30\n",
            "541/541 [==============================] - 4s 7ms/step - loss: 0.0137 - accuracy: 0.9960 - val_loss: 0.0155 - val_accuracy: 0.9958\n",
            "Epoch 20/30\n",
            "541/541 [==============================] - 4s 7ms/step - loss: 0.0052 - accuracy: 0.9984 - val_loss: 0.0179 - val_accuracy: 0.9953\n",
            "Epoch 21/30\n",
            "541/541 [==============================] - 5s 8ms/step - loss: 0.0133 - accuracy: 0.9962 - val_loss: 0.0108 - val_accuracy: 0.9979\n",
            "Epoch 22/30\n",
            "541/541 [==============================] - 4s 8ms/step - loss: 0.0060 - accuracy: 0.9980 - val_loss: 0.0058 - val_accuracy: 0.9988\n",
            "Epoch 23/30\n",
            "541/541 [==============================] - 4s 7ms/step - loss: 0.0144 - accuracy: 0.9962 - val_loss: 0.0256 - val_accuracy: 0.9934\n",
            "Epoch 24/30\n",
            "541/541 [==============================] - 4s 7ms/step - loss: 0.0066 - accuracy: 0.9980 - val_loss: 0.0061 - val_accuracy: 0.9991\n",
            "Epoch 25/30\n",
            "541/541 [==============================] - 5s 9ms/step - loss: 0.0055 - accuracy: 0.9986 - val_loss: 0.0043 - val_accuracy: 0.9997\n",
            "Epoch 26/30\n",
            "541/541 [==============================] - 4s 7ms/step - loss: 0.0023 - accuracy: 0.9993 - val_loss: 0.0677 - val_accuracy: 0.9844\n",
            "Epoch 27/30\n",
            "541/541 [==============================] - 4s 7ms/step - loss: 0.0056 - accuracy: 0.9980 - val_loss: 0.0350 - val_accuracy: 0.9931\n",
            "Epoch 28/30\n",
            "541/541 [==============================] - 5s 9ms/step - loss: 0.0098 - accuracy: 0.9975 - val_loss: 0.0229 - val_accuracy: 0.9943\n",
            "Epoch 29/30\n",
            "541/541 [==============================] - 4s 7ms/step - loss: 0.0103 - accuracy: 0.9970 - val_loss: 0.0067 - val_accuracy: 0.9981\n",
            "Epoch 30/30\n",
            "541/541 [==============================] - 4s 7ms/step - loss: 0.0068 - accuracy: 0.9981 - val_loss: 0.0123 - val_accuracy: 0.9969\n"
          ]
        }
      ],
      "source": [
        "history = model.fit(X_train, y_train, batch_size=32, epochs=epochs, validation_data=(X_test, y_test))"
      ]
    },
    {
      "cell_type": "markdown",
      "metadata": {
        "id": "diNbnH_dKO8J"
      },
      "source": [
        "### Draw plots (4 Marks)\n",
        "- Plot training accuracy and validation accuracy with respect to epochs\n",
        "- Plot training loss and validation loss with respect to epochs"
      ]
    },
    {
      "cell_type": "code",
      "execution_count": 14,
      "metadata": {
        "colab": {
          "base_uri": "https://localhost:8080/",
          "height": 472
        },
        "id": "8uoIPTssDofN",
        "outputId": "706a8130-23b9-4407-8432-41a48c18313e"
      },
      "outputs": [
        {
          "output_type": "display_data",
          "data": {
            "text/plain": [
              "<Figure size 640x480 with 1 Axes>"
            ],
            "image/png": "[encoded data removed]"
          },
          "metadata": {}
        }
      ],
      "source": [
        "#Plot training accuracy and validation accuracy with respect to epochs\n",
        "\n",
        "plt.figure(0)\n",
        "plt.plot(history.history['accuracy'], label = 'training_accuracy')\n",
        "plt.plot(history.history['val_accuracy'], label = 'test/_Accuracy')\n",
        "plt.title('Accuracy')\n",
        "plt.xlabel('epcohs')\n",
        "plt.ylabel('accuracy')\n",
        "plt.legend()\n",
        "plt.show()"
      ]
    },
    {
      "cell_type": "code",
      "execution_count": 15,
      "metadata": {
        "colab": {
          "base_uri": "https://localhost:8080/",
          "height": 472
        },
        "id": "1AFG9woXVfrc",
        "outputId": "0d8e7d2e-d51b-472d-87dc-e9f14f7d6970"
      },
      "outputs": [
        {
          "output_type": "display_data",
          "data": {
            "text/plain": [
              "<Figure size 640x480 with 1 Axes>"
            ],
            "image/png": "[encoded data removed]"
          },
          "metadata": {}
        }
      ],
      "source": [
        "#Plot training loss and validation loss with respect to epochs\n",
        "\n",
        "plt.figure(1)\n",
        "plt.plot(history.history['loss'], label = 'training_loss')\n",
        "plt.plot(history.history['val_loss'], label = 'val_loss')\n",
        "plt.title('Loss')\n",
        "plt.xlabel('epcohs')\n",
        "plt.ylabel('loss')\n",
        "plt.legend()\n",
        "plt.show()"
      ]
    },
    {
      "cell_type": "markdown",
      "metadata": {
        "id": "TXeibTPdU9iI"
      },
      "source": [
        "### Apply Transfer learning (8 Marks)\n",
        "- Apply transfer learning using\n",
        "- VGG16\n",
        "- ResNet\n",
        "- Check model performance for both"
      ]
    },
    {
      "cell_type": "code",
      "execution_count": 16,
      "metadata": {
        "colab": {
          "base_uri": "https://localhost:8080/"
        },
        "id": "4ZE0otZMGnSg",
        "outputId": "e42fe44d-9307-44d2-a666-0e98d133cc28"
      },
      "outputs": [
        {
          "output_type": "stream",
          "name": "stdout",
          "text": [
            "Downloading data from https://storage.googleapis.com/tensorflow/keras-applications/vgg16/vgg16_weights_tf_dim_ordering_tf_kernels_notop.h5\n",
            "58889256/58889256 [==============================] - 0s 0us/step\n",
            "Model: \"vgg16\"\n",
            "_________________________________________________________________\n",
            " Layer (type)                Output Shape              Param #   \n",
            "=================================================================\n",
            " input_1 (InputLayer)        [(None, 32, 32, 3)]       0         \n",
            "                                                                 \n",
            " block1_conv1 (Conv2D)       (None, 32, 32, 64)        1792      \n",
            "                                                                 \n",
            " block1_conv2 (Conv2D)       (None, 32, 32, 64)        36928     \n",
            "                                                                 \n",
            " block1_pool (MaxPooling2D)  (None, 16, 16, 64)        0         \n",
            "                                                                 \n",
            " block2_conv1 (Conv2D)       (None, 16, 16, 128)       73856     \n",
            "                                                                 \n",
            " block2_conv2 (Conv2D)       (None, 16, 16, 128)       147584    \n",
            "                                                                 \n",
            " block2_pool (MaxPooling2D)  (None, 8, 8, 128)         0         \n",
            "                                                                 \n",
            " block3_conv1 (Conv2D)       (None, 8, 8, 256)         295168    \n",
            "                                                                 \n",
            " block3_conv2 (Conv2D)       (None, 8, 8, 256)         590080    \n",
            "                                                                 \n",
            " block3_conv3 (Conv2D)       (None, 8, 8, 256)         590080    \n",
            "                                                                 \n",
            " block3_pool (MaxPooling2D)  (None, 4, 4, 256)         0         \n",
            "                                                                 \n",
            " block4_conv1 (Conv2D)       (None, 4, 4, 512)         1180160   \n",
            "                                                                 \n",
            " block4_conv2 (Conv2D)       (None, 4, 4, 512)         2359808   \n",
            "                                                                 \n",
            " block4_conv3 (Conv2D)       (None, 4, 4, 512)         2359808   \n",
            "                                                                 \n",
            " block4_pool (MaxPooling2D)  (None, 2, 2, 512)         0         \n",
            "                                                                 \n",
            " block5_conv1 (Conv2D)       (None, 2, 2, 512)         2359808   \n",
            "                                                                 \n",
            " block5_conv2 (Conv2D)       (None, 2, 2, 512)         2359808   \n",
            "                                                                 \n",
            " block5_conv3 (Conv2D)       (None, 2, 2, 512)         2359808   \n",
            "                                                                 \n",
            " block5_pool (MaxPooling2D)  (None, 1, 1, 512)         0         \n",
            "                                                                 \n",
            "=================================================================\n",
            "Total params: 14714688 (56.13 MB)\n",
            "Trainable params: 14714688 (56.13 MB)\n",
            "Non-trainable params: 0 (0.00 Byte)\n",
            "_________________________________________________________________\n"
          ]
        }
      ],
      "source": [
        "from tensorflow.keras.models import Model\n",
        "from keras.applications.vgg16 import VGG16\n",
        "\n",
        "vgg_model = VGG16(weights = 'imagenet', include_top = False, input_shape = (32, 32, 3))\n",
        "vgg_model.summary()\n"
      ]
    },
    {
      "cell_type": "code",
      "execution_count": 17,
      "metadata": {
        "id": "A6esBPMXaiNm"
      },
      "outputs": [],
      "source": [
        "for layer in vgg_model.layers:\n",
        "  layer.trainable = False\n"
      ]
    },
    {
      "cell_type": "code",
      "execution_count": 18,
      "metadata": {
        "colab": {
          "base_uri": "https://localhost:8080/"
        },
        "id": "kwnSGYG3a46b",
        "outputId": "65130cd0-5f14-4f4f-bf5e-1ffbffd54a07"
      },
      "outputs": [
        {
          "output_type": "stream",
          "name": "stdout",
          "text": [
            "Model: \"sequential_1\"\n",
            "_________________________________________________________________\n",
            " Layer (type)                Output Shape              Param #   \n",
            "=================================================================\n",
            " vgg16 (Functional)          (None, 1, 1, 512)         14714688  \n",
            "                                                                 \n",
            " flatten_1 (Flatten)         (None, 512)               0         \n",
            "                                                                 \n",
            " dense_2 (Dense)             (None, 32)                16416     \n",
            "                                                                 \n",
            " dropout_1 (Dropout)         (None, 32)                0         \n",
            "                                                                 \n",
            " dense_3 (Dense)             (None, 16)                528       \n",
            "                                                                 \n",
            " dense_4 (Dense)             (None, 15)                255       \n",
            "                                                                 \n",
            "=================================================================\n",
            "Total params: 14731887 (56.20 MB)\n",
            "Trainable params: 17199 (67.18 KB)\n",
            "Non-trainable params: 14714688 (56.13 MB)\n",
            "_________________________________________________________________\n"
          ]
        }
      ],
      "source": [
        "new_model = Sequential()\n",
        "new_model.add(vgg_model)\n",
        "new_model.add(Flatten())\n",
        "new_model.add(Dense(32, activation='relu'))\n",
        "new_model.add(Dropout(0.2))\n",
        "new_model.add(Dense(16, activation='relu'))\n",
        "new_model.add(Dense(15, activation='softmax'))\n",
        "opt=Adam()\n",
        "# Compile model\n",
        "new_model.compile(optimizer=opt, loss='categorical_crossentropy', metrics=['accuracy'])\n",
        "\n",
        "# Generating the summary of the model\n",
        "new_model.summary()"
      ]
    },
    {
      "cell_type": "code",
      "execution_count": 19,
      "metadata": {
        "colab": {
          "base_uri": "https://localhost:8080/"
        },
        "id": "Mm9cR-g4p9AP",
        "outputId": "ab6c9374-fc41-4461-f8fc-2b83e490b3bd"
      },
      "outputs": [
        {
          "output_type": "stream",
          "name": "stdout",
          "text": [
            "Output shape of new_model: (None, 15)\n"
          ]
        }
      ],
      "source": [
        "print(f\"Output shape of new_model: {new_model.output_shape}\")"
      ]
    },
    {
      "cell_type": "code",
      "execution_count": 20,
      "metadata": {
        "colab": {
          "base_uri": "https://localhost:8080/"
        },
        "id": "8_Ygc9vfbciH",
        "outputId": "acf66b4d-e834-40fb-fe7c-4a6259df64f3"
      },
      "outputs": [
        {
          "output_type": "stream",
          "name": "stdout",
          "text": [
            "Epoch 1/25\n",
            "541/541 [==============================] - 10s 14ms/step - loss: 2.4874 - accuracy: 0.2886 - val_loss: 1.6589 - val_accuracy: 0.4288\n",
            "Epoch 2/25\n",
            "541/541 [==============================] - 7s 14ms/step - loss: 1.6317 - accuracy: 0.4383 - val_loss: 1.4287 - val_accuracy: 0.5124\n",
            "Epoch 3/25\n",
            "541/541 [==============================] - 6s 11ms/step - loss: 1.4610 - accuracy: 0.4991 - val_loss: 1.3188 - val_accuracy: 0.5572\n",
            "Epoch 4/25\n",
            "541/541 [==============================] - 6s 12ms/step - loss: 1.3587 - accuracy: 0.5345 - val_loss: 1.2355 - val_accuracy: 0.6028\n",
            "Epoch 5/25\n",
            "541/541 [==============================] - 6s 12ms/step - loss: 1.2657 - accuracy: 0.5634 - val_loss: 1.1140 - val_accuracy: 0.6183\n",
            "Epoch 6/25\n",
            "541/541 [==============================] - 7s 14ms/step - loss: 1.1796 - accuracy: 0.5810 - val_loss: 1.0539 - val_accuracy: 0.6393\n",
            "Epoch 7/25\n",
            "541/541 [==============================] - 7s 14ms/step - loss: 1.1206 - accuracy: 0.6029 - val_loss: 0.9998 - val_accuracy: 0.6601\n",
            "Epoch 8/25\n",
            "541/541 [==============================] - 7s 12ms/step - loss: 1.0667 - accuracy: 0.6158 - val_loss: 0.9910 - val_accuracy: 0.6675\n",
            "Epoch 9/25\n",
            "541/541 [==============================] - 6s 12ms/step - loss: 1.0201 - accuracy: 0.6353 - val_loss: 0.9631 - val_accuracy: 0.6710\n",
            "Epoch 10/25\n",
            "541/541 [==============================] - 6s 12ms/step - loss: 0.9976 - accuracy: 0.6428 - val_loss: 0.8846 - val_accuracy: 0.6946\n",
            "Epoch 11/25\n",
            "541/541 [==============================] - 7s 14ms/step - loss: 0.9501 - accuracy: 0.6578 - val_loss: 0.8676 - val_accuracy: 0.6970\n",
            "Epoch 12/25\n",
            "541/541 [==============================] - 6s 12ms/step - loss: 0.9333 - accuracy: 0.6627 - val_loss: 0.8374 - val_accuracy: 0.7107\n",
            "Epoch 13/25\n",
            "541/541 [==============================] - 7s 14ms/step - loss: 0.9023 - accuracy: 0.6738 - val_loss: 0.8429 - val_accuracy: 0.7055\n",
            "Epoch 14/25\n",
            "541/541 [==============================] - 6s 12ms/step - loss: 0.8829 - accuracy: 0.6782 - val_loss: 0.8256 - val_accuracy: 0.7123\n",
            "Epoch 15/25\n",
            "541/541 [==============================] - 6s 11ms/step - loss: 0.8602 - accuracy: 0.6885 - val_loss: 0.8065 - val_accuracy: 0.7231\n",
            "Epoch 16/25\n",
            "541/541 [==============================] - 6s 12ms/step - loss: 0.8533 - accuracy: 0.6862 - val_loss: 0.8187 - val_accuracy: 0.7239\n",
            "Epoch 17/25\n",
            "541/541 [==============================] - 7s 14ms/step - loss: 0.8318 - accuracy: 0.6940 - val_loss: 0.7747 - val_accuracy: 0.7300\n",
            "Epoch 18/25\n",
            "541/541 [==============================] - 7s 14ms/step - loss: 0.8200 - accuracy: 0.6986 - val_loss: 0.7858 - val_accuracy: 0.7265\n",
            "Epoch 19/25\n",
            "541/541 [==============================] - 6s 11ms/step - loss: 0.8092 - accuracy: 0.7029 - val_loss: 0.7579 - val_accuracy: 0.7385\n",
            "Epoch 20/25\n",
            "541/541 [==============================] - 7s 14ms/step - loss: 0.7928 - accuracy: 0.7083 - val_loss: 0.7778 - val_accuracy: 0.7382\n",
            "Epoch 21/25\n",
            "541/541 [==============================] - 6s 11ms/step - loss: 0.7831 - accuracy: 0.7098 - val_loss: 0.7932 - val_accuracy: 0.7309\n",
            "Epoch 22/25\n",
            "541/541 [==============================] - 8s 14ms/step - loss: 0.7651 - accuracy: 0.7171 - val_loss: 0.7440 - val_accuracy: 0.7456\n",
            "Epoch 23/25\n",
            "541/541 [==============================] - 7s 13ms/step - loss: 0.7600 - accuracy: 0.7206 - val_loss: 0.7364 - val_accuracy: 0.7482\n",
            "Epoch 24/25\n",
            "541/541 [==============================] - 6s 12ms/step - loss: 0.7497 - accuracy: 0.7261 - val_loss: 0.7195 - val_accuracy: 0.7631\n",
            "Epoch 25/25\n",
            "541/541 [==============================] - 6s 11ms/step - loss: 0.7372 - accuracy: 0.7263 - val_loss: 0.7456 - val_accuracy: 0.7418\n"
          ]
        }
      ],
      "source": [
        "epochs = 25\n",
        "batch_size = 32\n",
        "\n",
        "history = new_model.fit(X_train, y_train, batch_size= batch_size, epochs=epochs, validation_data=(X_test, y_test))\n"
      ]
    },
    {
      "cell_type": "markdown",
      "source": [],
      "metadata": {
        "id": "wbYICOOVpCoS"
      }
    },
    {
      "cell_type": "code",
      "execution_count": 21,
      "metadata": {
        "colab": {
          "base_uri": "https://localhost:8080/"
        },
        "id": "5PYqRI6-D90-",
        "outputId": "4a2225ee-11ad-46d1-b96b-18d02170ea0a"
      },
      "outputs": [
        {
          "output_type": "stream",
          "name": "stdout",
          "text": [
            "Downloading data from https://storage.googleapis.com/tensorflow/keras-applications/resnet/resnet50_weights_tf_dim_ordering_tf_kernels_notop.h5\n",
            "94765736/94765736 [==============================] - 1s 0us/step\n",
            "Model: \"sequential_2\"\n",
            "_________________________________________________________________\n",
            " Layer (type)                Output Shape              Param #   \n",
            "=================================================================\n",
            " resnet50 (Functional)       (None, 1, 1, 2048)        23587712  \n",
            "                                                                 \n",
            " flatten_2 (Flatten)         (None, 2048)              0         \n",
            "                                                                 \n",
            " dense_5 (Dense)             (None, 512)               1049088   \n",
            "                                                                 \n",
            " dropout_2 (Dropout)         (None, 512)               0         \n",
            "                                                                 \n",
            " dense_6 (Dense)             (None, 256)               131328    \n",
            "                                                                 \n",
            " dropout_3 (Dropout)         (None, 256)               0         \n",
            "                                                                 \n",
            " dense_7 (Dense)             (None, 128)               32896     \n",
            "                                                                 \n",
            " dropout_4 (Dropout)         (None, 128)               0         \n",
            "                                                                 \n",
            " dense_8 (Dense)             (None, 15)                1935      \n",
            "                                                                 \n",
            "=================================================================\n",
            "Total params: 24802959 (94.62 MB)\n",
            "Trainable params: 24749839 (94.41 MB)\n",
            "Non-trainable params: 53120 (207.50 KB)\n",
            "_________________________________________________________________\n"
          ]
        }
      ],
      "source": [
        "from tensorflow.keras.applications.resnet50 import ResNet50\n",
        "\n",
        "res_model = Sequential()\n",
        "\n",
        "res = ResNet50(include_top=False, weights='imagenet',input_shape = (32, 32, 3))\n",
        "\n",
        "res_model.add(res)\n",
        "\n",
        "# Add new layers\n",
        "res_model.add(Flatten())\n",
        "res_model.add(Dense(512, activation='relu'))\n",
        "res_model.add(Dropout(0.5))\n",
        "res_model.add(Dense(256, activation='relu'))\n",
        "res_model.add(Dropout(0.5))\n",
        "res_model.add(Dense(128, activation='relu'))\n",
        "res_model.add(Dropout(0.3))\n",
        "# Output layer\n",
        "res_model.add(Dense(15, activation='softmax'))\n",
        "\n",
        "res_model.summary()"
      ]
    },
    {
      "cell_type": "code",
      "execution_count": 22,
      "metadata": {
        "colab": {
          "base_uri": "https://localhost:8080/"
        },
        "id": "myKRGGBmEDpD",
        "outputId": "eb78f339-b628-45b5-a176-1336c099e515"
      },
      "outputs": [
        {
          "output_type": "stream",
          "name": "stderr",
          "text": [
            "WARNING:absl:`lr` is deprecated in Keras optimizer, please use `learning_rate` or use the legacy optimizer, e.g.,tf.keras.optimizers.legacy.SGD.\n"
          ]
        }
      ],
      "source": [
        "from tensorflow.keras.optimizers import SGD\n",
        "\n",
        "sgd = SGD(lr=0.001, momentum=0.9)\n",
        "\n",
        "res_model.compile(loss='categorical_crossentropy',\n",
        "              optimizer=sgd,\n",
        "              metrics=['accuracy'])"
      ]
    },
    {
      "cell_type": "code",
      "execution_count": 23,
      "metadata": {
        "id": "nBT7K0zqEnYE"
      },
      "outputs": [],
      "source": [
        "res_model.compile(loss='categorical_crossentropy',\n",
        "              optimizer=sgd,\n",
        "              metrics=['accuracy'])"
      ]
    },
    {
      "cell_type": "code",
      "execution_count": 24,
      "metadata": {
        "colab": {
          "base_uri": "https://localhost:8080/"
        },
        "id": "KnTzDwBKEq0u",
        "outputId": "cec439c7-f53d-4b71-ab15-446c3fb8c348"
      },
      "outputs": [
        {
          "output_type": "stream",
          "name": "stdout",
          "text": [
            "Epoch 1/25\n",
            "541/541 [==============================] - 45s 47ms/step - loss: 2.9639 - accuracy: 0.1041 - val_loss: 2.5301 - val_accuracy: 0.1336\n",
            "Epoch 2/25\n",
            "541/541 [==============================] - 24s 44ms/step - loss: 2.5295 - accuracy: 0.1338 - val_loss: 2.4451 - val_accuracy: 0.1551\n",
            "Epoch 3/25\n",
            "541/541 [==============================] - 23s 43ms/step - loss: 2.4699 - accuracy: 0.1475 - val_loss: 2.4238 - val_accuracy: 0.1477\n",
            "Epoch 4/25\n",
            "541/541 [==============================] - 23s 43ms/step - loss: 2.2654 - accuracy: 0.1889 - val_loss: 2.0454 - val_accuracy: 0.2794\n",
            "Epoch 5/25\n",
            "541/541 [==============================] - 24s 44ms/step - loss: 1.9393 - accuracy: 0.2723 - val_loss: 1.7948 - val_accuracy: 0.3351\n",
            "Epoch 6/25\n",
            "541/541 [==============================] - 22s 41ms/step - loss: 1.7008 - accuracy: 0.3129 - val_loss: 1.9151 - val_accuracy: 0.3085\n",
            "Epoch 7/25\n",
            "541/541 [==============================] - 23s 43ms/step - loss: 1.5402 - accuracy: 0.3568 - val_loss: 1.2180 - val_accuracy: 0.4286\n",
            "Epoch 8/25\n",
            "541/541 [==============================] - 24s 44ms/step - loss: 1.3983 - accuracy: 0.4073 - val_loss: 1.2951 - val_accuracy: 0.4817\n",
            "Epoch 9/25\n",
            "541/541 [==============================] - 23s 42ms/step - loss: 1.1538 - accuracy: 0.4879 - val_loss: 1.0109 - val_accuracy: 0.5277\n",
            "Epoch 10/25\n",
            "541/541 [==============================] - 23s 42ms/step - loss: 1.0667 - accuracy: 0.5296 - val_loss: 0.8505 - val_accuracy: 0.6144\n",
            "Epoch 11/25\n",
            "541/541 [==============================] - 22s 41ms/step - loss: 0.9301 - accuracy: 0.6001 - val_loss: 0.7065 - val_accuracy: 0.6724\n",
            "Epoch 12/25\n",
            "541/541 [==============================] - 23s 43ms/step - loss: 0.8120 - accuracy: 0.6498 - val_loss: 0.7655 - val_accuracy: 0.6976\n",
            "Epoch 13/25\n",
            "541/541 [==============================] - 24s 44ms/step - loss: 0.6779 - accuracy: 0.7193 - val_loss: 0.6824 - val_accuracy: 0.7588\n",
            "Epoch 14/25\n",
            "541/541 [==============================] - 24s 45ms/step - loss: 0.5959 - accuracy: 0.7715 - val_loss: 0.4924 - val_accuracy: 0.8273\n",
            "Epoch 15/25\n",
            "541/541 [==============================] - 22s 41ms/step - loss: 0.4815 - accuracy: 0.8349 - val_loss: 0.3689 - val_accuracy: 0.8744\n",
            "Epoch 16/25\n",
            "541/541 [==============================] - 22s 41ms/step - loss: 0.4141 - accuracy: 0.8632 - val_loss: 0.4483 - val_accuracy: 0.8551\n",
            "Epoch 17/25\n",
            "541/541 [==============================] - 24s 44ms/step - loss: 0.6649 - accuracy: 0.8218 - val_loss: 0.5939 - val_accuracy: 0.7880\n",
            "Epoch 18/25\n",
            "541/541 [==============================] - 26s 48ms/step - loss: 0.4921 - accuracy: 0.8650 - val_loss: 0.4156 - val_accuracy: 0.8914\n",
            "Epoch 19/25\n",
            "541/541 [==============================] - 23s 42ms/step - loss: 0.7385 - accuracy: 0.7912 - val_loss: 0.2238 - val_accuracy: 0.9368\n",
            "Epoch 20/25\n",
            "541/541 [==============================] - 24s 44ms/step - loss: 0.4750 - accuracy: 0.8723 - val_loss: 0.9114 - val_accuracy: 0.7133\n",
            "Epoch 21/25\n",
            "541/541 [==============================] - 24s 44ms/step - loss: 0.2805 - accuracy: 0.9258 - val_loss: 0.1411 - val_accuracy: 0.9634\n",
            "Epoch 22/25\n",
            "541/541 [==============================] - 24s 44ms/step - loss: 0.2054 - accuracy: 0.9463 - val_loss: 0.1066 - val_accuracy: 0.9707\n",
            "Epoch 23/25\n",
            "541/541 [==============================] - 25s 46ms/step - loss: 0.2008 - accuracy: 0.9486 - val_loss: 0.1757 - val_accuracy: 0.9471\n",
            "Epoch 24/25\n",
            "541/541 [==============================] - 24s 44ms/step - loss: 0.1858 - accuracy: 0.9558 - val_loss: 0.1007 - val_accuracy: 0.9764\n",
            "Epoch 25/25\n",
            "541/541 [==============================] - 23s 43ms/step - loss: 0.1766 - accuracy: 0.9566 - val_loss: 0.0948 - val_accuracy: 0.9761\n"
          ]
        }
      ],
      "source": [
        "res_history = res_model.fit(X_train, y_train, batch_size = 32, epochs= 25,\n",
        "                            validation_data=(X_test,y_test))"
      ]
    },
    {
      "cell_type": "markdown",
      "metadata": {
        "id": "dlwh_LyVGnSg"
      },
      "source": [
        "### Compare the performance of the models and conclude. (3 Marks)"
      ]
    },
    {
      "cell_type": "code",
      "execution_count": 25,
      "metadata": {
        "id": "Dt1a3ayrVKoX"
      },
      "outputs": [],
      "source": [
        "# Model score commparisison\n",
        "\n",
        "score1 = model.evaluate(X_test, y_test, verbose=0)\n",
        "score2 = new_model.evaluate(X_test, y_test, verbose=0)\n",
        "score3 = res_model.evaluate(X_test, y_test, verbose=0)"
      ]
    },
    {
      "cell_type": "markdown",
      "source": [],
      "metadata": {
        "id": "IeljEyffoQKd"
      }
    },
    {
      "cell_type": "code",
      "execution_count": 26,
      "metadata": {
        "id": "ddmuheFWGnSg",
        "colab": {
          "base_uri": "https://localhost:8080/"
        },
        "outputId": "94a12554-1bbb-4739-b4d0-1d08555d1091"
      },
      "outputs": [
        {
          "output_type": "stream",
          "name": "stdout",
          "text": [
            "Model 1: Loss: 0.012287464924156666 Accuracy: 0.99687659740448\n",
            "Model 2: Loss: 0.7455752491950989 Accuracy: 0.7418011426925659\n",
            "Model 3: Loss: 0.09483044594526291 Accuracy: 0.9760541319847107\n"
          ]
        }
      ],
      "source": [
        "print(\"Model 1: Loss:\", score1[0], \"Accuracy:\", score1[1])\n",
        "print(\"Model 2: Loss:\", score2[0], \"Accuracy:\", score2[1])\n",
        "print(\"Model 3: Loss:\", score3[0], \"Accuracy:\", score3[1])"
      ]
    },
    {
      "cell_type": "markdown",
      "source": [
        "# BEST Model ACCURACY WE GOT IS FROM MODEL-> 1 i.e. 99.68%"
      ],
      "metadata": {
        "id": "GAHoSQNPn-yb"
      }
    }
  ],
  "metadata": {
    "colab": {
      "provenance": [],
      "gpuType": "T4"
    },
    "kernelspec": {
      "display_name": "Python 3",
      "name": "python3"
    },
    "language_info": {
      "codemirror_mode": {
        "name": "ipython",
        "version": 3
      },
      "file_extension": ".py",
      "mimetype": "text/x-python",
      "name": "python",
      "nbconvert_exporter": "python",
      "pygments_lexer": "ipython3",
      "version": "3.10.9"
    },
    "accelerator": "GPU"
  },
  "nbformat": 4,
  "nbformat_minor": 0
}